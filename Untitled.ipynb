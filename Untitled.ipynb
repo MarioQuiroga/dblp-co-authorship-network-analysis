{
 "cells": [
  {
   "cell_type": "code",
   "execution_count": 4,
   "metadata": {},
   "outputs": [
    {
     "ename": "DeprecationWarning",
     "evalue": "To avoid name collision with the igraph project, this visualization library has been renamed to 'jgraph'. Please upgrade when convenient.",
     "output_type": "error",
     "traceback": [
      "\u001b[0;31m---------------------------------------------------------------------------\u001b[0m",
      "\u001b[0;31mDeprecationWarning\u001b[0m                        Traceback (most recent call last)",
      "\u001b[0;32m<ipython-input-4-c383ab9d92f8>\u001b[0m in \u001b[0;36m<module>\u001b[0;34m\u001b[0m\n\u001b[0;32m----> 1\u001b[0;31m \u001b[0;32mimport\u001b[0m \u001b[0migraph\u001b[0m \u001b[0;32mas\u001b[0m \u001b[0mig\u001b[0m\u001b[0;34m\u001b[0m\u001b[0;34m\u001b[0m\u001b[0m\n\u001b[0m\u001b[1;32m      2\u001b[0m \u001b[0;32mimport\u001b[0m \u001b[0mnumpy\u001b[0m\u001b[0;34m\u001b[0m\u001b[0;34m\u001b[0m\u001b[0m\n",
      "\u001b[0;32m~/.local/lib/python3.6/site-packages/igraph/__init__.py\u001b[0m in \u001b[0;36m<module>\u001b[0;34m\u001b[0m\n\u001b[1;32m      6\u001b[0m \u001b[0m__license__\u001b[0m \u001b[0;34m=\u001b[0m \u001b[0;34m\"MIT\"\u001b[0m\u001b[0;34m\u001b[0m\u001b[0;34m\u001b[0m\u001b[0m\n\u001b[1;32m      7\u001b[0m \u001b[0;34m\u001b[0m\u001b[0m\n\u001b[0;32m----> 8\u001b[0;31m raise DeprecationWarning(\"To avoid name collision with the igraph project, \"\n\u001b[0m\u001b[1;32m      9\u001b[0m                          \u001b[0;34m\"this visualization library has been renamed to \"\u001b[0m\u001b[0;34m\u001b[0m\u001b[0;34m\u001b[0m\u001b[0m\n\u001b[1;32m     10\u001b[0m                          \"'jgraph'. Please upgrade when convenient.\")\n",
      "\u001b[0;31mDeprecationWarning\u001b[0m: To avoid name collision with the igraph project, this visualization library has been renamed to 'jgraph'. Please upgrade when convenient."
     ]
    }
   ],
   "source": [
    "import igraph as ig\n",
    "import numpy\n"
   ]
  },
  {
   "cell_type": "code",
   "execution_count": null,
   "metadata": {},
   "outputs": [],
   "source": [
    "\n",
    "g = ig.read('')\n",
    "#g = ig.read('users_digraph_ponderado.gml')\n",
    "#g = ig.read('users_graph.gml')\n",
    "\n",
    "print 'Directed =',g.is_directed()\n",
    "print 'Weighted =',g.is_weighted()\n",
    "\n",
    "\n",
    "\n",
    "cant_iter = 10\n",
    "\n",
    "weight = None\n",
    "if g.is_weighted():\n",
    "    weight = 'weight'\n",
    "\n",
    "user_buscado = 'asoc_celiaca_ar'\n",
    "\n",
    "coms_encontradas = []\n",
    "\n",
    "for x in xrange(cant_iter):\n",
    "    C = g.community_infomap(edge_weights=weight)\n",
    "    usuarios_comm = [g.vs[c]['label'] for c in C]\n",
    "    for uc in usuarios_comm:\n",
    "        if user_buscado in uc:\n",
    "            print uc\n",
    "            coms_encontradas.append(set(uc))\n",
    "\n",
    "union_ce = set()\n",
    "for com_cel in coms_encontradas:\n",
    "    union_ce = union_ce.union(com_cel)\n",
    "\n",
    "intersect_ce = set(coms_encontradas[0])\n",
    "for com_cel in coms_encontradas[1:]:\n",
    "    intersect_ce = intersect_ce.intersection(com_cel)\n",
    "\n",
    "print 'Error =',1-(len(intersect_ce)/float(len(union_ce)))"
   ]
  }
 ],
 "metadata": {
  "kernelspec": {
   "display_name": "Python 3",
   "language": "python",
   "name": "python3"
  },
  "language_info": {
   "codemirror_mode": {
    "name": "ipython",
    "version": 3
   },
   "file_extension": ".py",
   "mimetype": "text/x-python",
   "name": "python",
   "nbconvert_exporter": "python",
   "pygments_lexer": "ipython3",
   "version": "3.6.9"
  }
 },
 "nbformat": 4,
 "nbformat_minor": 2
}
