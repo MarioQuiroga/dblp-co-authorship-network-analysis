{
  "nbformat": 4,
  "nbformat_minor": 0,
  "metadata": {
    "colab": {
      "name": "Pruebas CNA",
      "provenance": [],
      "collapsed_sections": [],
      "toc_visible": true
    },
    "kernelspec": {
      "name": "python3",
      "display_name": "Python 3"
    }
  },
  "cells": [
    {
      "cell_type": "markdown",
      "metadata": {
        "id": "bfhRiBXE3qiG",
        "colab_type": "text"
      },
      "source": [
        "#Instalaciones"
      ]
    },
    {
      "cell_type": "code",
      "metadata": {
        "id": "8ilD5wlGyAQC",
        "colab_type": "code",
        "outputId": "151432de-9b4f-4121-cdc6-de32e2bdc968",
        "colab": {
          "base_uri": "https://localhost:8080/",
          "height": 210
        }
      },
      "source": [
        "!pip3 install python-igraph"
      ],
      "execution_count": 0,
      "outputs": [
        {
          "output_type": "stream",
          "text": [
            "Collecting python-igraph\n",
            "\u001b[?25l  Downloading https://files.pythonhosted.org/packages/0f/a0/4e7134f803737aa6eebb4e5250565ace0e2599659e22be7f7eba520ff017/python-igraph-0.7.1.post6.tar.gz (377kB)\n",
            "\r\u001b[K     |▉                               | 10kB 15.1MB/s eta 0:00:01\r\u001b[K     |█▊                              | 20kB 7.2MB/s eta 0:00:01\r\u001b[K     |██▋                             | 30kB 9.9MB/s eta 0:00:01\r\u001b[K     |███▌                            | 40kB 6.1MB/s eta 0:00:01\r\u001b[K     |████▍                           | 51kB 7.4MB/s eta 0:00:01\r\u001b[K     |█████▏                          | 61kB 8.7MB/s eta 0:00:01\r\u001b[K     |██████                          | 71kB 9.8MB/s eta 0:00:01\r\u001b[K     |███████                         | 81kB 10.9MB/s eta 0:00:01\r\u001b[K     |███████▉                        | 92kB 12.0MB/s eta 0:00:01\r\u001b[K     |████████▊                       | 102kB 9.7MB/s eta 0:00:01\r\u001b[K     |█████████▌                      | 112kB 9.7MB/s eta 0:00:01\r\u001b[K     |██████████▍                     | 122kB 9.7MB/s eta 0:00:01\r\u001b[K     |███████████▎                    | 133kB 9.7MB/s eta 0:00:01\r\u001b[K     |████████████▏                   | 143kB 9.7MB/s eta 0:00:01\r\u001b[K     |█████████████                   | 153kB 9.7MB/s eta 0:00:01\r\u001b[K     |██████████████                  | 163kB 9.7MB/s eta 0:00:01\r\u001b[K     |██████████████▊                 | 174kB 9.7MB/s eta 0:00:01\r\u001b[K     |███████████████▋                | 184kB 9.7MB/s eta 0:00:01\r\u001b[K     |████████████████▌               | 194kB 9.7MB/s eta 0:00:01\r\u001b[K     |█████████████████▍              | 204kB 9.7MB/s eta 0:00:01\r\u001b[K     |██████████████████▎             | 215kB 9.7MB/s eta 0:00:01\r\u001b[K     |███████████████████             | 225kB 9.7MB/s eta 0:00:01\r\u001b[K     |████████████████████            | 235kB 9.7MB/s eta 0:00:01\r\u001b[K     |████████████████████▉           | 245kB 9.7MB/s eta 0:00:01\r\u001b[K     |█████████████████████▊          | 256kB 9.7MB/s eta 0:00:01\r\u001b[K     |██████████████████████▋         | 266kB 9.7MB/s eta 0:00:01\r\u001b[K     |███████████████████████▌        | 276kB 9.7MB/s eta 0:00:01\r\u001b[K     |████████████████████████▎       | 286kB 9.7MB/s eta 0:00:01\r\u001b[K     |█████████████████████████▏      | 296kB 9.7MB/s eta 0:00:01\r\u001b[K     |██████████████████████████      | 307kB 9.7MB/s eta 0:00:01\r\u001b[K     |███████████████████████████     | 317kB 9.7MB/s eta 0:00:01\r\u001b[K     |███████████████████████████▉    | 327kB 9.7MB/s eta 0:00:01\r\u001b[K     |████████████████████████████▋   | 337kB 9.7MB/s eta 0:00:01\r\u001b[K     |█████████████████████████████▌  | 348kB 9.7MB/s eta 0:00:01\r\u001b[K     |██████████████████████████████▍ | 358kB 9.7MB/s eta 0:00:01\r\u001b[K     |███████████████████████████████▎| 368kB 9.7MB/s eta 0:00:01\r\u001b[K     |████████████████████████████████| 378kB 9.7MB/s \n",
            "\u001b[?25hBuilding wheels for collected packages: python-igraph\n",
            "  Building wheel for python-igraph (setup.py) ... \u001b[?25l\u001b[?25hdone\n",
            "  Created wheel for python-igraph: filename=python_igraph-0.7.1.post6-cp36-cp36m-linux_x86_64.whl size=2213831 sha256=76b1971c788297b9fed2e0c072fe63718a4ed79531c088ddd5ff22928c172904\n",
            "  Stored in directory: /root/.cache/pip/wheels/41/d6/02/34eebae97e25f5b87d60f4c0687e00523e3f244fa41bc3f4a7\n",
            "Successfully built python-igraph\n",
            "Installing collected packages: python-igraph\n",
            "Successfully installed python-igraph-0.7.1.post6\n"
          ],
          "name": "stdout"
        }
      ]
    },
    {
      "cell_type": "markdown",
      "metadata": {
        "id": "xkwfTDJKw99K",
        "colab_type": "text"
      },
      "source": [
        "#Zona para importaciones"
      ]
    },
    {
      "cell_type": "code",
      "metadata": {
        "id": "EsfzOLkRhkZW",
        "colab_type": "code",
        "colab": {}
      },
      "source": [
        "import networkx as nx\n",
        "import matplotlib.pyplot as plt\n",
        "\n",
        "from os import scandir, getcwd\n",
        "\n",
        "import community\n",
        "import itertools\n",
        "\n",
        "import igraph as ig\n",
        "import operator\n",
        "\n",
        "import pandas as pd\n",
        "import numpy as np\n",
        "\n"
      ],
      "execution_count": 0,
      "outputs": []
    },
    {
      "cell_type": "markdown",
      "metadata": {
        "id": "CzA3ClO7xFfR",
        "colab_type": "text"
      },
      "source": [
        "#Creacion de grafos"
      ]
    },
    {
      "cell_type": "code",
      "metadata": {
        "id": "Hvaed5NLxNKd",
        "colab_type": "code",
        "colab": {}
      },
      "source": [
        "G_google = nx.read_weighted_edgelist('/content/authors_titles_google.csv',delimiter=',')\n",
        "G_facebook = nx.read_weighted_edgelist('/content/authors_titles_facebook.csv',delimiter=',') \n",
        "G_carnegi = nx.read_weighted_edgelist('/content/authors_titles_Massachusetts Institute of Technology.csv',delimiter=',')\n",
        "G_mit = nx.read_weighted_edgelist('/content/authors_titles_Carnegie Mellon University.csv',delimiter=',')\n",
        "G_illinois = nx.read_weighted_edgelist('/content/authors_titles_Univ. of Illinois at Urbana-Champaign.csv',delimiter=',')\n",
        "G_microsoft = nx.read_weighted_edgelist('/content/authors_titles_microsoft.csv',delimiter=',')"
      ],
      "execution_count": 0,
      "outputs": []
    },
    {
      "cell_type": "markdown",
      "metadata": {
        "id": "cJsUXGjjG-5U",
        "colab_type": "text"
      },
      "source": [
        "# Definir funciones\n",
        "\n"
      ]
    },
    {
      "cell_type": "code",
      "metadata": {
        "id": "k0BVIKZHG-eT",
        "colab_type": "code",
        "colab": {}
      },
      "source": [
        "def ls(ruta = getcwd()):\n",
        "    return [arch.name for arch in scandir(ruta) if arch.is_file()]\n",
        "\n",
        "def load_networks(path):\n",
        "    files = ls(path)\n",
        "    graphs = {}\n",
        "    full = nx.Graph()\n",
        "    coauthors_full = set() \n",
        "\n",
        "    for file in files:\n",
        "        name = file.split('_')[-1].split('.')[0]\n",
        "        g = nx.read_weighted_edgelist(path+'/'+file, delimiter=',')        \n",
        "        coauthors = set()\n",
        "        full = nx.compose(full, g)\n",
        "        with open(path+'/'+file) as f:\n",
        "            lines = f.readlines()\n",
        "            for line in lines:\n",
        "                author = line.split(',')[0]\n",
        "                coauthors.add(author)\n",
        "                coauthors_full.add(author)\n",
        "            g = g.subgraph(coauthors)            \n",
        "        graphs[name] = g   \n",
        "    graphs['full']=full.subgraph(list(coauthors_full))\n",
        "    return graphs\n"
      ],
      "execution_count": 0,
      "outputs": []
    },
    {
      "cell_type": "code",
      "metadata": {
        "id": "IBIBirTWKwHC",
        "colab_type": "code",
        "colab": {}
      },
      "source": [
        "def compare_comunity(comu,authors):\n",
        "  total = len(comu)\n",
        "  if total > 0:\n",
        "    common = set(comu) & set(authors)\n",
        "    return len(common) *100 /total \n",
        "  else:\n",
        "    return 0\n"
      ],
      "execution_count": 0,
      "outputs": []
    },
    {
      "cell_type": "code",
      "metadata": {
        "id": "RAELsR4P1D40",
        "colab_type": "code",
        "colab": {}
      },
      "source": [
        "def print_community(community,graphs):\n",
        "  algorithms={}\n",
        "  result={}\n",
        "  result['google']=[]\n",
        "  result['Massachusetts Institute of Technology']=[]\n",
        "  result['microsoft']=[]\n",
        "  result['facebook']=[]\n",
        "  result['Carnegie Mellon University']=[]\n",
        "  result['Univ']=[]\n",
        "  compare={}  \n",
        "  for i in range(len(community)):\n",
        "    compare['google']=compare_comunity(community[i],graphs['google'].nodes())\n",
        "    compare['Massachusetts Institute of Technology']=compare_comunity(community[i],graphs['Massachusetts Institute of Technology'].nodes())\n",
        "    compare['microsoft']=compare_comunity(community[i],graphs['microsoft'].nodes())\n",
        "    compare['facebook']=compare_comunity(community[i],graphs['facebook'].nodes())\n",
        "    compare['Carnegie Mellon University']=compare_comunity(community[i],graphs['Carnegie Mellon University'].nodes())\n",
        "    compare['Univ']=compare_comunity(community[i],graphs['Univ'].nodes())\n",
        "    maximo=max(compare.items(), key=operator.itemgetter(1))[0]\n",
        "    result[maximo].extend(community[i])\n",
        "\n",
        "  for inst,authors in result.items():\n",
        "    compar = compare_comunity(authors,graphs[inst].nodes())\n",
        "    algorithms[inst]=compar\n",
        "\n",
        "  return algorithms"
      ],
      "execution_count": 0,
      "outputs": []
    },
    {
      "cell_type": "markdown",
      "metadata": {
        "id": "9vRjcZp6IPcs",
        "colab_type": "text"
      },
      "source": [
        "#Cargo grafos"
      ]
    },
    {
      "cell_type": "code",
      "metadata": {
        "id": "rwwKa-rYHiNQ",
        "colab_type": "code",
        "outputId": "e58e2827-8d3d-48d0-cf19-97df7766c01c",
        "colab": {
          "base_uri": "https://localhost:8080/",
          "height": 34
        }
      },
      "source": [
        "path ='/content/'\n",
        "graphs = load_networks(path)\n"
      ],
      "execution_count": 0,
      "outputs": [
        {
          "output_type": "execute_result",
          "data": {
            "text/plain": [
              "5524"
            ]
          },
          "metadata": {
            "tags": []
          },
          "execution_count": 6
        }
      ]
    },
    {
      "cell_type": "markdown",
      "metadata": {
        "id": "D5GAPA-ZI7uq",
        "colab_type": "text"
      },
      "source": [
        "# Extraigo comunidades"
      ]
    },
    {
      "cell_type": "code",
      "metadata": {
        "id": "WFmDM_3Hk3Hn",
        "colab_type": "code",
        "colab": {}
      },
      "source": [
        "largest_cc = max(nx.connected_components(graphs['full']), key=len)\n",
        "g = graphs['full'].subgraph(largest_cc)\n",
        "nx.write_gml(g, \"/content/full.gml\")"
      ],
      "execution_count": 0,
      "outputs": []
    },
    {
      "cell_type": "code",
      "metadata": {
        "id": "bKN9cpiVIOwU",
        "colab_type": "code",
        "colab": {}
      },
      "source": [
        "\n",
        "\n",
        "k = 5\n",
        "gn=[]\n",
        "comp = nx.algorithms.community.centrality.girvan_newman(g)\n",
        "print(comp)\n",
        "\n",
        "for communities in itertools.islice(comp, k):\n",
        "  gn.append(tuple(sorted(c) for c in communities))\n",
        "  print(\"comu\")\n",
        "comunnities_gn={}\n",
        "for index,authors in enumerate(gn[len(gn)-1]):\n",
        "  comunnities_gn[index]=authors\n",
        "\n"
      ],
      "execution_count": 0,
      "outputs": []
    },
    {
      "cell_type": "code",
      "metadata": {
        "id": "Q6KZH6fLc_Pe",
        "colab_type": "code",
        "colab": {}
      },
      "source": [
        "algo={}"
      ],
      "execution_count": 0,
      "outputs": []
    },
    {
      "cell_type": "code",
      "metadata": {
        "id": "-yzAuEAL3-jh",
        "colab_type": "code",
        "colab": {}
      },
      "source": [
        "\n",
        "algo['gn']=print_community(comunnities_gn,graphs)\n"
      ],
      "execution_count": 0,
      "outputs": []
    },
    {
      "cell_type": "code",
      "metadata": {
        "id": "z2fMmufslAuS",
        "colab_type": "code",
        "outputId": "e5fe768e-1650-44bf-a195-bb5c15d74c70",
        "colab": {
          "base_uri": "https://localhost:8080/",
          "height": 34
        }
      },
      "source": [
        "louvain={}\n",
        "part = community.best_partition(g,weight='weight',resolution=1)\n",
        "\n",
        "val = set(part.values())\n",
        "print(len(val))\n",
        "\n",
        "for v in val:\n",
        "  louvain[v]=[]\n",
        "\n",
        "for key,values in part.items():\n",
        "  louvain[values].append(key)"
      ],
      "execution_count": 0,
      "outputs": [
        {
          "output_type": "stream",
          "text": [
            "21\n"
          ],
          "name": "stdout"
        }
      ]
    },
    {
      "cell_type": "code",
      "metadata": {
        "id": "rejqVhF3BYy9",
        "colab_type": "code",
        "outputId": "6fd43f45-a0be-446f-b140-04f3d5cbef84",
        "colab": {
          "base_uri": "https://localhost:8080/",
          "height": 54
        }
      },
      "source": [
        "algo['louvein']=print_community(louvain,graphs)\n"
      ],
      "execution_count": 0,
      "outputs": [
        {
          "output_type": "stream",
          "text": [
            "{'louvein': {'google': 63.08805790108565, 'Massachusetts Institute of Technology': 35.53719008264463, 'microsoft': 65.1105651105651, 'facebook': 49.23076923076923, 'Carnegie Mellon University': 51.21951219512195, 'Univ': 0}}\n"
          ],
          "name": "stdout"
        }
      ]
    },
    {
      "cell_type": "code",
      "metadata": {
        "id": "mtV83CM-3y-u",
        "colab_type": "code",
        "outputId": "8c02b4b2-38be-46ad-e4ce-9c25ff9ecde8",
        "colab": {
          "base_uri": "https://localhost:8080/",
          "height": 53
        }
      },
      "source": [
        "for i in range(len(comunnities_gn)):\n",
        "  compare={}  \n",
        "  compare['google']=compare_comunity(comunnities_gn[i],graphs['google'].nodes())\n",
        "  compare['Massachusetts Institute of Technology']=compare_comunity(comunnities_gn[i],graphs['Massachusetts Institute of Technology'].nodes())\n",
        "  compare['microsoft']=compare_comunity(comunnities_gn[i],graphs['microsoft'].nodes())\n",
        "  compare['facebook']=compare_comunity(comunnities_gn[i],graphs['facebook'].nodes())\n",
        "  compare['Carnegie Mellon University']=compare_comunity(comunnities_gn[i],graphs['Carnegie Mellon University'].nodes())\n",
        "  compare['Univ']=compare_comunity(comunnities_gn[i],graphs['Univ'].nodes())\n"
      ],
      "execution_count": 0,
      "outputs": [
        {
          "output_type": "stream",
          "text": [
            "{'google': 40.0, 'Massachusetts Institute of Technology': 0.0, 'microsoft': 60.0, 'facebook': 0.0, 'Carnegie Mellon University': 0.0, 'Univ': 0.0}\n"
          ],
          "name": "stdout"
        }
      ]
    },
    {
      "cell_type": "code",
      "metadata": {
        "id": "2igy3KRJ9qL-",
        "colab_type": "code",
        "colab": {}
      },
      "source": [
        "nx.write_gml(g, \"/content/full.gml\")"
      ],
      "execution_count": 0,
      "outputs": []
    },
    {
      "cell_type": "code",
      "metadata": {
        "id": "Vg0YPYEB42gz",
        "colab_type": "code",
        "outputId": "a430bf71-6d86-4bd6-8ae4-bc08f7f86106",
        "colab": {
          "base_uri": "https://localhost:8080/",
          "height": 72
        }
      },
      "source": [
        "G = ig.read('/content/full.gml')\n",
        "C = G.community_infomap(trials=100 ,edge_weights='weight')\n",
        "\n",
        "\n",
        "usuarios_comm = [G.vs[c]['label'] for c in C]\n",
        "print (len(usuarios_comm))\n",
        "\n",
        "infomap={}\n",
        "\n",
        "for index,com in enumerate(usuarios_comm):\n",
        "  infomap[index]=com\n",
        "\n",
        ")"
      ],
      "execution_count": 0,
      "outputs": [
        {
          "output_type": "stream",
          "text": [
            "194\n",
            "{0: ['Ben_Laurie', 'Tom_Bagby', 'Andrew_W._Senior', 'Rob_Clark', 'Benjamin_N._Lee', 'Quoc_V._Le', 'Zhifeng_Chen', 'Siyang_Qin', 'Hank_Liao', 'Daisy_Stanton', 'Yanping_Huang', 'Orhan_Firat', 'David_B._Kemp', 'Ruoming_Pang', 'Quan_Wang', 'Parisa_Haghani', 'Alex_Rudnick', 'Arnaud_Sahuguet', 'Mingxing_Tan', 'George_Foster', 'Oriol_Vinyals', 'Leif_Johnson', 'Golnaz_Ghiasi', 'Arvind_Neelakantan', 'Meire_Fortunato', 'Vincent_Wan', 'Fergus_Henderson', 'Akosua_Busia', 'Olivier_Siohan', 'Geoffrey_E._Hinton', 'Rohan_Anil', 'Austin_Waters', 'Chanwoo_Kim', 'Melvin_Johnson', 'Eric_Battenberg', 'William_Chan', 'Suyog_Gupta', 'Khe_Chai_Sim', 'Jonathan_Shen', 'Markus_Becker', 'Simon_Kornblith', 'Navdeep_Jaitly', 'Erik_McDermott', 'Ananya_Misra', 'Mohamed_G._Elfeky', 'Heiga_Zen', 'Yu_Zhang', 'Ying_Xiao', 'Kanishka_Rao', 'Rohit_Prabhavalkar'], 1: ['Donald_Brinkman', 'Ashish_Kapoor', 'Steven_M._Drucker', 'John_C._Tang', 'Neel_Joshi', 'Nathalie_Henry_Riche', 'Kori_Inkpen', 'Dravyansh_Sharma', 'Daniel_J._McDuff', 'Saleema_Amershi', 'Sidhant_Gupta', 'Javier_Hernandez', 'Dan_Morris', 'Nebojsa_Jojic', 'Tulasi_Menon', 'Chris_Brockett', 'Desney_S._Tan', 'Greg_Smith', 'Richard_Stoakley', 'Mary_Czerwinski', 'Eric_Nichols', 'Debadeepta_Dey', 'Brian_Guenter', 'Sumit_Basu', 'Kael_Rowan', 'Mayank_Goel', 'Bongshin_Lee', 'Andi_Peng', 'Chris_Lovett'], 2: ['Dawn_M._Tilbury', 'Rob_Miller_0001', 'David_R._Karger', 'Samuel_Madden', 'Adam_Meyerson', 'Nickolai_Zeldovich', 'Oriana_Riva', 'Randall_Davis', 'Peter_Bailis', 'Seth_J._Teller', 'Mohammad_Alizadeh', 'Adam_Chlipala', 'Bodhi_Priyantha', 'Adam_Belay', 'Michel_Goraczko', 'Irene_Zhang', 'Hari_Balakrishnan', 'Kevin_Chen', 'M._Frans_Kaashoek', 'Dimitrios_Lymberopoulos', 'Robert_Tappan_Morris'], 3: ['Xiao_Yu', 'Brendan_Jou', 'Stephan_Wolf', 'Evelyne_Viegas', 'Bonnie_Berger', 'Shaowen_Wang', 'Ricky_Loynd', 'Donald_Metzler', 'Jian_Peng_0001', 'Rama_Kumar_Pasumarthi', 'Jialu_Liu', 'Hongzhi_Li', 'Kuansan_Wang', 'Dong_Xin', 'Xuanhui_Wang', 'Heng_Ji', 'Jie_Yang_0015', 'ChengXiang_Zhai', 'Jiawei_Han_0001', 'Maryam_Karimzadehgan'], 4: ['Sangho_Yoon', 'Nitish_Korula', 'Vahab_S._Mirrokni', 'Nicole_Immorlica', 'Morteza_Zadimoghaddam', 'Bryan_Perozzi', 'Ullas_Gargi', 'Brendan_Lucier', 'Moshe_Babaioff', 'Janardhan_Kulkarni', 'Vasilis_Syrgkanis', 'Chandra_Chekuri', 'Alessandro_Epasto', 'Silvio_Lattanzi', 'Mohammad_Mahdian', 'Hossein_Esfandiari', 'Benjamin_Moseley', 'Constantinos_Daskalakis'], 5: ['Wei_Wei', 'Massimiliano_Ciaramita', 'Bin_Cheng', 'Zhe_Li', 'Nan_Li', 'Jin_Li', 'Jannis_Bulian', 'Xubin_He', 'Ning_Zhang', 'Lav_R._Varshney', 'Olgica_Milenkovic', 'Jian_Ma_0004', 'Jie_Ren', 'Georgi_M._Dimirovski', 'Li_Lyna_Zhang', 'Wei_Li', 'Wei_Chen_0013', 'Ying_Li', 'Yang_Li', 'Wei_Wang', 'Mei_Han', 'Wei_Zhang', 'Yi_Liu', 'Mingyang_Zhang', 'Manolis_Kellis'], 6: ['Indranil_Gupta', 'Md._Tanvir_Al_Amin', 'Lui_Sha', 'Robin_Kravets', 'Roy_H._Campbell', 'Abhishek_Verma', 'Tarek_F._Abdelzaher', 'Ragunathan_Rajkumar', 'Ramesh_Govindan', 'Sibin_Mohan', 'Priya_Narasimhan', 'Marco_Caccamo', 'Klara_Nahrstedt', 'Daniel_P._Siewiorek', 'Pavlos_Papageorge'], 7: ['Kurt_Shuster', 'Sam_Gross', 'Antoine_Bordes', 'Pierre_Sermanet', 'Fabio_Petroni', 'Yann_LeCun', 'Soumith_Chintala', 'Mikael_Henaff', 'Arthur_Szlam', 'Mark_Tygert', 'Kyunghyun_Cho', 'Veselin_Stoyanov', 'Holger_Schwenk', 'Adina_Williams', 'Debidatta_Dwibedi', 'Stephen_Roller', 'Changhan_Wang', 'Douwe_Kiela', 'Alexander_H._Miller', 'Camille_Couprie'], 8: ['Amy_Zhang', 'Adam_Trischler', 'Pascal_Vincent', 'Baiyang_Liu', 'Alessandro_Sordoni', 'Remi_Tachet_des_Combes', 'Geoffrey_J._Gordon', 'Joelle_Pineau', 'Tsendsuren_Munkhdalai', 'Hannes_Schulz', 'Adriana_Romero', 'Philip_Bachman', 'Yoshua_Bengio', 'Soroush_Mehri', 'Nicolas_Le_Roux', 'Tong_Wang'], 9: ['Peter_Bailey', 'Anne_Loomis_Thompson', 'Bodo_Billerbeck', 'Matteo_Venanzi', 'Jaime_Teevan', 'Paul_N._Bennett', 'Nick_Craswell', 'Robert_Sim', 'Omar_Zia_Khan', 'Mihaela_Vorvoreanu', 'Liu_Yang_0005', 'Adam_Fourney', 'Susan_T._Dumais', 'Evangelos_Kanoulas', 'Bhaskar_Mitra', 'Milad_Shokouhi', 'Nancy_Baym', 'Paul_Thomas_0001', 'Ahmed_Hassan_Awadallah'], 10: ['Andy_Zeng', 'James_J._Kuffner', 'William_Whittaker', 'Henny_Admoni', 'Vittorio_Ferrari', 'David_Held', 'Tai_Sing_Lee', 'Martial_Hebert', 'Steven_M._LaValle', 'Maxim_Likhachev', 'Michael_Gygli', 'J._Andrew_Bagnell', 'Jasper_R._R._Uijlings', 'Cristian_Sminchisescu', 'Alonzo_Kelly', 'Takeo_Kanade'], 11: ['Jan_Hoffmann_0002', 'Robert_Harper_0001', 'Amir_Yazdanbakhsh', 'Manik_Varma', 'Umut_A._Acar', 'Guy_E._Blelloch', 'Julian_Shun', 'Karl_Crary', 'Gary_L._Miller', 'Vivek_Seshadri', 'Phillip_B._Gibbons', 'Seth_Copen_Goldstein', 'Todd_C._Mowry', 'Frank_Pfenning', 'Harsha_Vardhan_Simhadri', 'Ellen_Spertus'], 12: ['Nicolas_Christin', 'Lujo_Bauer', 'Yuvraj_Agarwal', 'Matt_Fredrikson', 'Alessandro_Acquisti', 'Jason_I._Hong', 'Anupam_Datta', 'Nektarios_Leontiadis', 'Lorrie_Faith_Cranor', 'Travis_D._Breaux', 'Douglas_C._Sicker', 'Kristen_LeFevre', 'Norman_M._Sadeh'], 13: ['Marina_Kobayashi', 'David_Cohn', 'Levent_Burak_Kara', 'Christopher_G._Atkeson', 'Patrick_Carrington', 'Illah_R._Nourbakhsh', 'Chris_Harrison', 'Andrew_W._Moore_0001', 'Nancy_S._Pollard', 'Jodi_Forlizzi', 'Sara_B._Kiesler', 'Hartmut_Geyer', 'James_McCann', 'Jessica_K._Hodgins', 'John_Zimmerman', 'Lining_Yao', 'Scott_E._Hudson'], 14: ['Shixiang_Gu', 'Honglak_Lee', 'Pablo_Samuel_Castro', 'Mohammad_Norouzi_0002', 'Ofir_Nachum', 'Yinlam_Chow', 'Saurabh_Kumar', 'Mohammad_Ghavamzadeh', 'Dale_Schuurmans', 'Archit_Sharma', 'Craig_Boutilier', 'Robert_Dadashi', 'Branislav_Kveton'], 15: ['Emily_Pitler', 'John_Blitzer', 'Jesse_Kirchner', 'Jan_A._Botha', 'Nevena_Lazic', 'Ryan_T._McDonald', 'Michael_Ringgaard', 'Mohammed_Attia', 'Gleb_Mazovetskiy', 'Dipanjan_Das_0001', 'Ruli_Manurung', 'Ellie_Pavlick', 'Kuzman_Ganchev', 'Vitaly_Nikolaev', 'Daniel_Andor', 'Juri_Ganitkevitch', 'Emma_Strubell', 'Fernando_Pereira', 'John_Alex', 'Stanislav_Angelov'], 16: ['Phillip_Isola', 'Oran_Lang', 'Forrester_Cole', 'Antonio_Torralba_0001', 'Wojciech_Matusik', 'Tali_Dekel', 'Carl_Vondrick', 'William_T._Freeman', 'Aaron_Sarna', 'Inbar_Mosseri', 'Michael_Rubinstein'], 17: ['Christos_Faloutsos', 'Tom_M._Mitchell', 'Ahmed_Metwally_0001', 'Jingrui_He', 'Ronald_Rosenfeld', 'Zhe_Zhao', 'Paul_Covington', 'Xinyang_Yi', 'Francois_Belletti', 'Walid_Krichene', 'Alex_Beutel', 'Hanghang_Tong', 'Emre_Sargin'], 18: ['Peter_Steenkiste', 'Catherine_Olsson', 'Jeffrey_C._Mogul', 'Andrew_Pavlo', 'George_Amvrosiadis', 'David_G._Andersen', 'Hyeontaek_Lim', 'Petros_Maniatis', 'Amar_Phanishayee', 'Srinivasan_Seshan', 'Vyas_Sekar', 'Gregory_R._Ganger'], 19: ['Georgia_Gkioxari', 'Abhinav_Gupta_0001', 'Congcong_Li', 'Saurabh_Gupta_0001', 'Michela_Paganini', 'Ioannis_Gkioulekas', 'Qucheng_Gong', 'Xinlei_Chen', 'Deepak_Pathak', 'Devi_Parikh', 'Srinivasa_G._Narasimhan', 'Dhruv_Batra', 'Yan_Zhu_0009', 'Yuandong_Tian', 'Yuxin_Wu', 'Vivek_Natarajan'], 20: ['Souvik_Sen', 'Bozidar_Radunovic', 'Christos_Gkantsidis', 'Landon_P._Cox', 'Antony_I._T._Rowstron', 'Aleksandar_Dragojevic', 'Romit_Roy_Choudhury', 'Dushyanth_Narayanan', 'Brian_D._Noble', 'Thomas_Karagiannis', 'Edmund_B._Nightingale', 'Alex_Shamis', 'Stanko_Novakovic', 'Mahadev_Satyanarayanan', 'Matthew_Renzelmann'], 21: ['Amer_Diwan', 'Margus_Veanes', 'Kim_Laine', 'Saeed_Maleki', 'Sebastian_Burckhardt', 'Daniel_von_Dincklage', 'Todd_Mytkowicz', 'Olli_Saarikivi', 'Hao_Chen_0030', 'David_Tarditi', 'Daan_Leijen', 'Michael_Barnett_0001', 'Yongsoo_Song', 'Madan_Musuvathi'], 22: ['Bogdan_Vasilescu', 'Graham_Neubig', 'Eric_Nyberg', 'Jaime_G._Carbonell', 'Kemal_Oflazer', 'Chenyan_Xiong', 'Kun_Zhang_0001', 'Krzysztof_Czuba', 'James_P._Callan', 'Yiming_Yang', 'Hanxiao_Liu', 'Xian_Li', 'Rayid_Ghani', 'Lindsay_Reynolds'], 23: ['Dimitrios_Vytiniotis', 'Gopal_Srinivasa', 'Advait_Sarkar', 'Aditya_V._Nori', 'Rahul_Sharma_0001', 'Dino_Distefano', 'Matthew_J._Parkinson', 'Pantazis_Deligiannis', 'Kapil_Vaswani', 'Andrew_D._Gordon', 'Kaushik_Rajan', 'Akash_Lal', 'Sriram_K._Rajamani'], 24: ['Jan_Skoglund', 'John_R._Hershey', 'Alejandro_Luebs', 'Kevin_W._Wilson', 'Brian_Patton', 'Manoj_Plakal', 'Richard_F._Lyon', 'Bhiksha_Raj', 'Sourish_Chaudhuri', 'Paris_Smaragdis', 'Scott_Wisdom', 'Rahul_Sarpeshkar', 'Shawn_Hershey'], 25: ['Badrish_Chandramouli', 'Jarek_Wilkiewicz', 'David_B._Lomet', 'Gurmeet_Singh_Manku', 'Tim_Kraska', 'Chi_Wang', 'Ramarathnam_Venkatesan', 'Yinan_Li', 'Anja_Gruenheid', 'Sukriti_Ramesh', 'Donald_Kossmann', 'Arvind_Arasu', 'Mariusz_H._Jakubowski'], 26: ['Huishuai_Zhang', 'Bin_Gao_0001', 'Jiang_Bian_0002', 'Qi_Meng', 'Tao_Qin', 'Tie-Yan_Liu', 'Xu_Tan', 'Li_Zhao'], 27: ['Aaron_Segal', 'Bo_Li_0026', 'Jennifer_Rexford', 'Carl_A._Gunter', 'Matt_Welsh', 'Brighten_Godfrey', 'Junda_Liu', 'Matthew_Caesar', 'Albert_G._Greenberg', 'Hongyi_Zeng', 'Nikita_Borisov', 'David_A._Maltz', 'Xianghang_Mi'], 28: ['William_Thies', 'Saman_P._Amarasinghe', 'Anant_Agarwal', 'Edward_Cutrell', 'Brandon_Lucia', 'Sasa_Misailovic', 'Mohit_Jain', 'Michael_Carbin', 'Nathan_Beckmann', 'Gavin_Jancke', 'Martin_C._Rinard'], 29: ['Erik_Vee', 'Ramanathan_V._Guha', 'Kevin_S._McCurley', 'Marcus_Fontoura', 'Andrew_Tomkins', 'William_D._Heavlin', 'Alan_M._Frieze', 'Kostas_Kollias', 'D._Sivakumar', 'Zoya_Svitkina', 'Andrei_Z._Broder', 'Manish_Purohit', 'Nadav_Eiron'], 30: ['Hrishikesh_B._Aradhye', 'Apostol_Natsev', 'Balakrishnan_Varadarajan', 'Chunhui_Gu', 'Matthew_J._Hausknecht', 'Joonseok_Lee', 'Zheng_Xu', 'Katerina_Fragkiadaki', 'Sudheendra_Vijayanarasimhan', 'Julian_Mason', 'George_Toderici', 'David_Minnen', 'Susanna_Ricco', 'David_A._Ross'], 31: ['Daniel_Hewlett', 'David_Berthelot', 'John_DeNero', 'Jakob_Uszkoreit', 'Aidan_N._Gomez', 'Eugene_Brevdo', 'Ashish_Vaswani', 'Peter_Shaw', 'Aurko_Roy', 'Dave_Moore', 'Illia_Polosukhin', 'Massimo_Nicosia', 'Francesco_Piccinno'], 32: ['Fadi_Biadsy', 'Keith_B._Hall', 'Ian_Williams', 'Daan_van_Esch', 'Pedro_J._Moreno', 'Petar_S._Aleksic', 'HyunJeong_Choe', 'Carl_Kingsford', 'Leonid_Velikovich', 'Brian_Roark', 'Gleb_Skobeltsyn', 'Mohammadreza_Ghodsi', 'Richard_Sproat'], 33: ['Vignesh_Ganapathy', 'Cong_Yu_0001', 'Felix_Halim', 'You_Wu_0001', 'Philip_A._Bernstein', 'Nitin_Gupta_0003', 'Silu_Huang', 'Jayant_Madhavan', 'Hongrae_Lee', 'Xuezhi_Wang_0002', 'Heidi_Lam', 'Liang_Jeff_Chen', 'Flip_Korn'], 34: ['Grigore_Rosu', 'Butler_W._Lampson', 'P._Madhusudan', 'John_Penix', 'Nir_Shavit', 'Geir_E._Dullerud', 'Nancy_A._Lynch', 'Darko_Marinov', 'Mahesh_Viswanathan_0001', 'Gul_A._Agha', 'Sayan_Mitra'], 35: ['Quan_Geng', 'Jiecao_Chen', 'Felix_X._Yu', 'Sanjiv_Kumar', 'Ananda_Theertha_Suresh', 'Satyen_Kale', 'Sashank_J._Reddi', 'Peter_Kairouz', 'Wei_Ding'], 36: ['Elad_Eban', 'Sella_Nevo', 'Regina_Barzilay', 'David_K._Gifford', 'Gal_Elidan', 'Ron_Weiss', 'Amir_Globerson', 'Ofer_Meshi', 'Tommi_S._Jaakkola', 'Prashant_Vaidyanathan', 'Fabian_Pedregosa'], 37: ['Marc_Donner', 'Ali_Zand', 'Nav_Jagpal', 'Tadek_Pietraszek', 'Mike_Williamson', 'William_H._Sanders', 'Ryan_Rasti', 'Andrew_Miller_0001', 'Shobha_Vasudevan', 'Michael_Bailey', 'Elie_Bursztein', 'Adam_Bates_0001', 'Abhijit_Bose', 'Abhishek_Kumar', 'Panayiotis_Mavrommatis', 'Luca_Invernizzi', 'Farnam_Jahanian', 'Rony_Amira'], 38: ['Yuning_Chai', 'Hartwig_Adam', 'Xiao_Zhang', 'Menglong_Zhu', 'Vivienne_Sze', 'Mark_Sandler', 'Florian_Schroff', 'Andre_Araujo', 'Yang_Song', 'James_C._Hoe', 'Chen_Sun', 'Umer_Farooq'], 39: ['Emilie_Danna', 'David_Applegate', 'Haim_Kaplan', 'Danny_Raz', 'Efi_Kokiopoulou', 'Edith_Cohen', 'Dror_Aiger', 'Yishay_Mansour', 'Ehud_Rivlin'], 40: ['Matt_Blaze', 'Adith_Swaminathan', 'Tobias_Schnabel', 'Alekh_Agarwal', 'Robert_E._Schapire', 'Silvio_Micali', 'Praneeth_Netrapalli', 'Ronald_L._Rivest', 'Akshay_Krishnamurthy'], 41: ['David_Lo_0003', 'Rama_Govindaraju', 'Vikram_S._Adve', 'Sarita_V._Adve', 'Tipp_Moseley', 'Justin_Meza', 'Tianyin_Xu', 'Ashish_Shah', 'Svilen_Kanev', 'Jichuan_Chang', 'Haishan_Zhu', 'Parthasarathy_Ranganathan', 'Hyoun_Kyu_Cho'], 42: ['Amy_Ogan', 'William_W._Cohen', 'Ni_Lao', 'Kenneth_R._Koedinger', 'Justine_Cassell', 'Vincent_Aleven', 'Jessica_Hammer', 'Robert_F._Murphy'], 43: ['Dimitrios_Dimitriadis', 'Frank_K._Soong', 'Adam_Eversole', 'Yan_Huang', 'Yu_Shi', 'Frank_Seide', 'Jinyu_Li', 'Michael_Levit', 'Eric_Chang', 'Lijuan_Wang', 'Qiang_Huo', 'Takuya_Yoshioka', 'Wayne_Xiong'], 44: ['Craig_B._Zilles', 'Alex_Kirlik', 'David_A._Forsyth', 'Keenan_Crane', 'Mani_Golparvar_Fard', 'Deva_Ramanan', 'Derek_Hoiem', 'Kris_Hauser', 'Simon_Lucey', 'Ranjitha_Kumar', 'Timothy_Bretl', 'Brian_P._Bailey', 'Karrie_Karahalios', 'Celal_Ziftci'], 45: ['Albert_Gordo', 'Jana_Kosecka', 'Yann_Ollivier', 'Thomas_Mensink', 'Cordelia_Schmid', 'Jeff_Johnson', 'Svetlana_Lazebnik', 'Alexander_C._Berg', 'Daniel_Keysers', 'Matthijs_Douze'], 46: ['Moustafa_A._Hammad', 'James_Long', 'Yuan_Wang', 'Ritendra_Datta', 'Eric_P._Xing', 'Christopher_James_Langmead', 'Amr_Ahmed', 'Wei_Wu', 'Surojit_Chatterjee', 'Seyoung_Kim'], 47: ['Cecily_Morrison', 'John_Krumm', 'Steve_Hodges', 'Anja_Thieme', 'Tim_Regan', 'Thomas_J._Cashman_0001', 'Stuart_Taylor', 'James_Scott', 'Jamie_Shotton', 'Matthew_Johnson_0003', 'Vibhav_Vineet', 'David_Sweeney'], 48: ['Aniket_Kittur', 'Matthew_J._Streeter', 'Kathleen_M._Carley', 'Robert_E._Kraut', 'Laura_A._Dabbish', 'Geoff_F._Kaufman', 'Boris_Smus', 'Luis_von_Ahn', 'Moira_Burke', 'James_D._Herbsleb'], 49: ['Qiuyuan_Huang', 'Honglei_Liu', 'Xiaodong_He_0001', 'Kenneth_Tran', 'Pengchuan_Zhang', 'Markus_Freitag', 'Lei_Zhang', 'Paul_Smolensky', 'Cheng_Ju', 'Hamid_Palangi'], 50: ['Manpreet_Singh', 'Richard_Draves', 'Nikhil_Swamy', 'Brian_Zill', 'Bryan_Parno', 'Virgil_D._Gligor', 'Reuben_Olinsky', 'John_R._Douceur', 'Jacob_R._Lorch', 'Srinath_T._V._Setty', 'Barry_Bond', 'Jonathan_Lee'], 51: ['Rebecca_Isaacs', 'Marcus_Peinado', 'Richard_Black', 'Shobana_Balakrishnan', 'Andrew_Baumann', 'Xinyang_Ge', 'Weidong_Cui', 'Sangho_Lee_0001', 'Paul_England', 'Gang_Fu', 'David_Harper', 'Ronald_Aigner', 'Ben_Niu', 'Stefan_Saroiu', 'Andrew_Ferraiuolo'], 52: ['Pradeep_Ravikumar', 'Daniel_Smilkov', 'Been_Kim', 'Oluwasanmi_Koyejo', 'Tomas_Pfister', 'Julie_A._Shah', 'Nagarajan_Natarajan', 'Sara_Hooker', 'Emily_Reif', 'Carrie_J._Cai', 'Julius_Adebayo'], 53: ['Marianne_Berkovich', 'Elizabeth_F._Churchill', 'Nithya_Sambasivan', 'Emily_Stark', 'Martin_Shelton', 'Kerwell_Liao', 'Sebastian_Schnorf', 'Vidhya_Navalpakkam', 'Adrienne_Porter_Felt', 'Robert_W._Reeder', 'Sunny_Consolvo', 'Paul_M._Aoki', 'Christopher_Thompson', 'Martin_Ortlieb'], 54: ['Julian_Ibarz', 'Jie_Tan', 'Yaroslav_Bulatov', 'Vikas_Sindhwani', 'Yunfei_Bai', 'Ken_Caluwaerts', 'Konstantinos_Bousmalis', 'Alex_Irpan', 'Chelsea_Finn', 'Fereshteh_Sadeghi', 'Eric_Jang'], 55: ['Douglas_Eck', 'Philippe_Hamel', 'David_Ha', 'Kumar_Krishna_Agrawal', 'Jesse_H._Engel', 'Adam_Roberts', 'Fred_Bertsch', 'Ian_Simon', 'Sherol_Chen'], 56: ['Wenlin_Chen', 'Xiujun_Li', 'Lihong_Li_0001', 'Dengyong_Zhou', 'Paul_Crook', 'Julia_Hockenmaier', 'Yonatan_Bisk', 'Jingjing_Liu', 'Yi_Mao'], 57: ['Sebastian_Krause', 'Carlos_A._Colmenares', 'Yoel_Drori', 'Eric_Malmi', 'Gang_Li', 'Itay_Laish', 'Hui_Lin', 'Daniele_Pighin', 'Katja_Filippova', 'Idan_Szpektor', 'Ido_Cohn', 'Mor_Geva'], 58: ['Sitaram_Lanka', 'Kalin_Ovtcharov', 'Daniel_Firestone', 'Aaron_Smith', 'Changkyu_Kim', 'Stephen_Heil', 'Eric_Peterson', 'Doug_Burger'], 59: ['Karl_Schnaitter', 'Kevin_Haas', 'Jun_Xu', 'Petros_Venetis', 'Hui_Miao', 'Radek_Vingralek', 'John_Cieslewicz', 'Stephan_Ellner', 'Himani_Apte', 'Eric_Rollins', 'Neoklis_Polyzotis', 'Christine_Robson'], 60: ['Kellie_Webster', 'Alexander_Ku', 'Eva_Schlinger', 'Vihan_Jain', 'Rahul_Gupta', 'Eugene_Ie', 'Jason_Baldridge', 'Xiaoqiang_Luo', 'Dan_Garrette', 'Marta_Recasens'], 61: ['Gaoxiang_Xu', 'Theo_Vassilakis', 'Wentao_Wu_0001', 'Vivek_R._Narasayya', 'Bailu_Ding', 'Anshuman_Dutt', 'Yue_Wang', 'Kaushik_Chakrabarti', 'Polina_Golland', 'Yeye_He', 'Kris_Ganjam', 'Justin_Solomon'], 62: ['Ulan_Degenbaev', 'Derek_L._Schuff', 'Kentaro_Hara', 'Marcel_Hlopko', 'Brad_Chen', 'Andreas_Rossberg', 'Daniel_Clifford', 'Hannes_Payer', 'Ben_L._Titzer'], 63: ['Yiannis_Demiris', 'Andrea_Vedaldi', 'Chong_Luo', 'Yuwang_Wang', 'Cuiling_Lan', 'Wenjun_Zeng', 'Wenxuan_Xie', 'Xiaoyan_Sun'], 64: ['Yiyong_Lin', 'Rich_Caruana', 'Shuayb_Zarar', 'Matthew_Richardson', 'Paul_Koch', 'Ganesh_Ananthanarayanan', 'Cliff_Wong', 'Yuanchao_Shu', 'Matthai_Philipose', 'Mengyu_Zhou', 'Hoifung_Poon'], 65: ['Dongmei_Zhang', 'Rui_Ding', 'Lei_Fang', 'Tingting_Qin', 'Hucheng_Zhou', 'Bo_Qiao', 'Weiwei_Cui', 'Yun_Wang', 'Song_Ge', 'Ting_Liu', 'Haidong_Zhang'], 66: ['Lasse_Espeholt', 'Marco_Cuturi', 'Olivier_Bousquet', 'Dylan_Freedman', 'Michal_Jastrzebski', 'Anton_Raichuk', 'Karol_Kurach', 'Marvin_Ritter', 'Lucas_Beyer', 'Olivier_Bachem', 'Xiaohua_Zhai'], 67: ['Tingbo_Hou', 'Jianing_Wei', 'Irfan_A._Essa', 'Yury_Pisarchyk', 'Rico_Jonschkowski', 'Vinay_Bettadapura', 'Steven_Hickson', 'Anelia_Angelova', 'Ivan_Grishchenko', 'Matthias_Grundmann'], 68: ['Piotr_Indyk', 'Fadel_Adib', 'Haitham_Hassanieh', 'David_P._Woodruff', 'Ronitt_Rubinfeld', 'Dina_Katabi'], 69: ['Yinpeng_Chen', 'Johannes_Kopf', 'Suhib_Alsisan', 'Kevin_Matzen', 'Hari_Sundaram', 'Zicheng_Liu', 'Michael_F._Cohen', 'Aseem_Agarwala'], 70: ['Andrew_D._Wilson', 'Ray_Bittner', 'Michel_Pahud', 'William_Buxton', 'Mike_Sinclair', 'Maryam_Tohidi', 'Eyal_Ofek', 'Gavin_Smyth'], 71: ['Nicholas_FitzGerald', 'Kenton_Lee', 'Denis_Yarats', 'Tom_Kwiatkowski', 'Jennimaria_Palomaki', 'Michael_Tseng', 'Arash_Einolghozati', 'Luheng_He', 'Sonal_Gupta', 'Mike_Lewis'], 72: ['Jaehoon_Lee', 'Greg_Yang', 'C._Daniel_Freeman', 'David_Sussillo', 'Niru_Maheswaranathan', 'Masrour_Zoghi', 'Jascha_Sohl-Dickstein', 'Nando_de_Freitas', 'Laurent_Dinh'], 73: ['Akshay_Uttama_Nambi', 'Ella_Bounimova', 'Chetan_Bansal', 'Ramachandran_Ramjee', 'Vishal_Chowdhary', 'Ranjita_Bhagwan', 'Sumit_Asthana', 'Vishnu_Navda', 'Shailesh_Kumar', 'Shravan_K._Rayanchu', 'Rahul_Kumar'], 74: ['Ravishankar_K._Iyer', 'T._V._Raman', 'Steven_S._Lumetta', 'Chunqiang_Tang', 'Thenkurussi_Kesavadas', 'Rakesh_Kumar_0002', 'Astrid_Weber', 'Deming_Chen', 'Yu_Zhong', 'Martin_D._F._Wong'], 75: ['Jian_Huang_0006', 'Nancy_M._Amato', 'Shanxiang_Qi', 'Christopher_W._Fletcher', 'Srinivas_Devadas', 'David_A._Padua', 'Josep_Torrellas', 'Laura_Caulfield'], 76: ['Asuman_E._Ozdaglar', 'Alan_S._Willsky', 'Pablo_A._Parrilo', 'Gregory_W._Wornell', 'Devavrat_Shah', 'John_N._Tsitsiklis', 'Yury_Polyanskiy'], 77: ['Tavian_Barnes', 'Romain_Laroche', 'Harm_van_Seijen', 'Matthieu_Geist', 'Diana_Borsa', 'Olivier_Pietquin', 'Mehdi_Fatemi'], 78: ['Jeff_Erickson_0001', 'Virginia_Vassilevska_Williams', 'Isabelle_Stanton', 'Timothy_M._Chan', 'Erik_D._Demaine', 'R._Ryan_Williams', 'Siu-Wing_Cheng'], 79: ['Geoffrey_M._Voelker', 'Neha_Chachra', 'Michael_Vrable', 'Mark_Lentczner', 'Kirill_Levchenko', 'Arnar_Birgisson', 'Neal_Cardwell'], 80: ['Daniel_Myers', 'Alexander_Shraer', 'Jorgen_Thelin', 'Maxim_Gurevich', 'Arif_Merchant', 'Barbara_Liskov', 'Sameer_Ajmani', 'Atul_Adya', 'Gabriel_Kliot', 'Sergey_Bykov'], 81: ['Gabriel_Synnaeve', 'Qiantong_Xu', 'Jonas_Gehring', 'Vasil_Khalidov', 'Zeming_Lin', 'Michael_Auli', 'Ronan_Collobert'], 82: ['Wei_Bai', 'David_E._Langworthy', 'Mao_Yang', 'Quanlu_Zhang', 'Ding_Wang', 'Nipun_Kwatra', 'Leslie_Lamport', 'Jilong_Xue', 'Lintao_Zhang', 'Lidong_Zhou'], 83: ['Sameh_Elnikety', 'Christopher_Stewart', 'Charles_E._Leiserson', 'Olatunji_Ruwase', 'Yuxiong_He', 'Minjia_Zhang'], 84: ['Baining_Guo', 'Baoyuan_Wang', 'Xun_Cao', 'Guojun_Chen', 'Stephen_Lin', 'Yue_Dong'], 85: ['Sumit_Gulwani', 'Mohammad_Raza', 'Prateek_Jain', 'Miltiadis_Allamanis', 'Oleksandr_Polozov', 'Marc_Brockschmidt'], 86: ['Vinod_Vaikuntanathan', 'Yael_Tauman_Kalai', 'Divya_Gupta', 'Nishanth_Chandran', 'Vipul_Goyal', 'Melissa_Chase', 'Dakshita_Khurana'], 87: ['Lu_Jiang_0004', 'Manan_Shah', 'Yannis_Kalantidis', 'Liangliang_Cao', 'Haoqi_Fan_0001', 'Zheng_Shou', 'Huazhong_Ning', 'Chen_Wang', 'Zhen_Li'], 88: ['Maxim_A._Babenko', 'Moritz_Hardt', 'Ruta_Mehta', 'Amit_Daniely', 'Ravishankar_Krishnaswamy', 'Roy_Frostig', 'Anupam_Gupta'], 89: ['Josh_Levenberg', 'John_Daughtry', 'Pete_Warden', 'Craig_Citro', 'Yangqing_Jia', 'Aditya_Kalro', 'Dmytro_Dzhulgakov', 'Kim_M._Hazelwood', 'Priya_Goyal'], 90: ['Sivaraman_Balakrishnan', 'Aarti_Singh', 'K._V._Rashmi', 'Nihar_B._Shah'], 91: ['Trevor_Carnahan', 'Kim_Herzig', 'Brendan_Murphy', 'Bao_N._Nguyen', 'John_Micco', 'Christian_Bird', 'Jacek_Czerwonka'], 92: ['Christian_Kroer', 'Ariel_D._Procaccia', 'Tuomas_Sandholm', 'Fei_Fang', 'J._Zico_Kolter'], 93: ['Carlo_Spaccasassi', 'Alessandro_Abate', 'Christoph_M._Wintersteiger', 'Boyan_Yordanov', 'Edward_Meeds', 'Andrew_Phillips', 'Neil_Dalchau'], 94: ['Alexander_G._Schwing', 'Marc_Pollefeys', 'Bugra_Tekin', 'Yasutaka_Furukawa', 'Sameer_Agarwal_0001', 'Silvano_Galliani', 'David_Gallup'], 95: ['Rahul_Garg', 'Yael_Pritch', 'Jiawen_Chen', 'Jonathan_T._Barron', 'Dillon_Sharlet', 'Samuel_W._Hasinoff'], 96: ['Daniela_Rus', 'Russ_Tedrake', 'Leslie_Pack_Kaelbling', 'Chen_Zhang', 'Brian_Milch', 'Lei_Ji', 'Jianwen_Zhang'], 97: ['Jing_Huang', 'Benjamin_Graham', 'Manohar_Paluri', 'Yixuan_Li', 'Guan_Pang', 'Laurens_van_der_Maaten', 'Lorenzo_Torresani'], 98: ['Zornitsa_Kozareva', 'Bhaskar_Mehta', 'Matthew_Henderson', 'Sujith_Ravi', 'Marina_Ganea', 'Balint_Miklos', 'Thomas_Hofmann', 'Julia_Proskurnia'], 99: ['David_Garlan', 'Jonathan_Aldrich', 'Brad_A._Myers', 'Claire_Le_Goues'], 100: ['Qi_Zhao', 'Sandeep_Tata', 'Jing_Xie', 'Eugene_J._Shekita', 'Wenbo_Zhu', 'Avrilia_Floratou', 'Navneet_Potti'], 101: ['Vinodkumar_Prabhakaran', 'Kalika_Bali', 'Sunayana_Sitaram', 'Alan_W._Black', 'Yulia_Tsvetkov'], 102: ['David_Dohan', 'Peter_J._Liu', 'Ethan_K._Jackson', 'Nan_Du', 'Etienne_Pot', 'Jake_Marcus', 'Kai_Chen_0010', 'James_Wexler', 'Hector_Yee'], 103: ['Xing_Xie_0001', 'Shaozhi_Ye', 'Kaihua_Zhu', 'Houwen_Peng', 'Hongjie_Bai', 'Ruihua_Song', 'Jianlong_Fu'], 104: ['Satish_Chandra_0001', 'John_Field', 'Stefan_Heule', 'Kunal_Taneja', 'Suresh_Thummalapenta', 'Marc_Nunkesser', 'Saurabh_Sinha'], 105: ['Bruce_H._Krogh', 'Bruno_Sinopoli', 'Andrey_Rybalchenko', 'Randal_E._Bryant', 'Kenneth_L._McMillan', 'Edmund_M._Clarke'], 106: ['Daniel_Mills', 'Tyler_Akidau', 'Ashish_Raniwala', 'Slava_Chernyak', 'Robert_Bradshaw', 'Sam_McVeety', 'Craig_Chambers'], 107: ['Kevin_Robert_Canini', 'Dara_Bahri', 'Sen_Zhao', 'Jan_Pfeifer', 'David_Ding', 'Maya_R._Gupta'], 108: ['Peyman_Milanfar', 'Sungjoon_Choi', 'Priyam_Chatterjee', 'Thad_Hughes', 'Damien_Kelly', 'Pascal_Getreuer', 'Neil_Birkbeck'], 109: ['Ankur_Taly', 'Kedar_Dhamdhere', 'Qiqi_Yan', 'Vincent_Perot', 'Mukund_Sundararajan'], 110: ['Shumin_Zhai', 'Matthew_Kam', 'Jingtao_Wang', 'Jingjie_Zheng', 'Philip_Quinn', 'Joyojeet_Pal', 'Tom_Ouyang', 'Mary_L._Gray'], 111: ['Edward_Aftandilian', 'Sanjay_Bhansali', 'Caitlin_Sadowski', 'Jaeheon_Yi', 'Raluca_Sauciuc', 'Sara_L._Su', 'Denae_Ford'], 112: ['Raghav_Gupta', 'Pranav_Khaitan', 'Abhinav_Rastogi', 'Neha_Nayak', 'Jindong_Chen', 'Wenhan_Lu'], 113: ['David_Maxwell_Chickering', 'Mo_Wang', 'Andrzej_Pastusiak', 'Alicia_Pelton', 'Christopher_Meek'], 114: ['Alexey_Kurakin', 'Saurabh_Saxena', 'Shuang_Song_0001', 'Andrew_Selle', 'Esteban_Real', 'Nicolas_Papernot'], 115: ['Wayne_Chang', 'Sean_Ryan_Fanello', 'Rohit_Pandey', 'Ruofei_Du', 'Dan_B._Goldman', 'Sofien_Bouaziz'], 116: ['Navin_Goyal', 'Bernhard_Haeupler', 'Karthekeyan_Chandrasekaran', 'Karthik_Abinav_Sankararaman', 'Siddhartha_Sen_0001', 'Oswaldo_Ribas'], 117: ['Jian_Sun_0001', 'Jianmin_Bao', 'Fang_Wen', 'Lu_Yuan'], 118: ['David_M._Pennock', 'Omid_Madani', 'Rupert_Freeman', 'Alexandrin_Popescul', 'Shuguang_Han', 'Mike_Colagrosso'], 119: ['David_Xinliang_Li', 'James_Laudon', 'Cliff_Young', 'Jingyue_Wu', 'Robert_Hundt', 'Penporn_Koanantakool', 'Teresa_Johnson'], 120: ['Manya_Ghobadi', 'Keon_Jang', 'Radhika_Mittal', 'Hassan_M._G._Wassel', 'Justine_Sherry', 'Yaogong_Wang'], 121: ['Kai_Chen_0005', 'Yongqiang_Xiong', 'Peng_Cheng_0005', 'Ran_Shu', 'Rahul_Potharaju'], 122: ['Azalia_Mirhoseini', 'Bita_Darvish_Rouhani', 'Krzysztof_Maziarz', 'Quentin_de_Laroussilhe', 'Mona_Attariyan'], 123: ['Lev_Nachmanson', 'Guilherme_Ottoni', 'Alessandro_Presta', 'Sergey_Pupyrev', 'Brian_Karrer'], 124: ['Jens_Riegelsberger', 'Scott_Counts', 'Antonella_Pavese', 'Jon_Campbell', 'Shane_Williams', 'Ann_Paradiso', 'Lili_Cheng'], 125: ['Luca_Daniel', 'Bruce_Tidor', 'Jacob_K._White', 'Duane_S._Boning', 'Gary_K._Fedder'], 126: ['Yordan_Zaykov', 'Aleksandr_Chuklin', 'Yingzhen_Li', 'Katja_Hofmann', 'Diego_Perez_Liebana', 'Sam_Devlin'], 127: ['David_F._Bacon', 'James_C._Corbett', 'Alexander_Lloyd', 'Rajesh_Rao', 'Wilson_C._Hsieh'], 128: ['Giulia_DeSalvo', 'Hang_Qi', 'Virginia_Smith', 'Ameet_Talwalkar'], 129: ['Maryam_Kamvar', 'Deepak_Ravichandran', 'Rajan_Patel', 'Shumeet_Baluja', 'Michael_Fink_0002'], 130: ['Konstantinos_Karanasos', 'Claudio_Criscione', 'Carlo_Curino', 'Siqi_Liu'], 131: ['Patrick_Longa', 'Craig_Costello', 'Michael_Naehrig'], 132: ['Neeraj_Kayal', 'Sivakanth_Gopi', 'Ankit_Singh_Rawat', 'Venkatesan_Guruswami', 'Michael_A._Forbes'], 133: ['Arun_Shankar_Iyer', 'Rajiv_Mehrotra', 'Shobhit_Saxena', 'Krishnendu_Chaudhury', 'Ankur_Jain'], 134: ['William_Gropp', 'Marc_Snir', 'Luke_N._Olson'], 135: ['Radu_Marculescu', 'Diana_Marculescu'], 136: ['Dan_Moldovan', 'Shanqing_Cai', 'Katy_Blumer', 'Ryan_Poplin', 'D._Sculley', 'Sharat_Chikkerur'], 137: ['Aranyak_Mehta', 'Pushkar_Tripathi', 'Gagan_Aggarwal', 'An_Zhu'], 138: ['Jinsong_Su', 'Jing_Dai', 'Berthold_K._P._Horn', 'Yang_Liu'], 139: ['Yan_Yu', 'David_Thaler', 'Deborah_Estrin'], 140: ['Anne_Aula', 'Daniel_M._Russell', 'Amit_Deutsch', 'Diane_Tang', 'John_Cox'], 141: ['Tomas_Mikolov', 'Brenden_M._Lake', 'Christian_Puhrsch', 'Marco_Baroni'], 142: ['Howie_Choset', 'Matthew_T._Mason', 'Michael_A._Erdmann'], 143: ['Roy_Want', 'Okan_Kolak', 'Bill_N._Schilit', 'Peter_Norvig'], 144: ['Dan_Bohus', 'Ashley_Feniello', 'Mihai_Jalobeanu', 'Sean_Andrist'], 145: ['Ankur_Moitra', 'Ryota_Tomioka', 'Jerry_Li_0001', 'Aleksander_Madry'], 146: ['John_V._Guttag', 'Peter_Szolovits', 'Andrew_Lo', 'Tristan_Naumann'], 147: ['Ameesh_Makadia', 'Daniel_Freedman', 'Or_Litany', 'Aviv_Hurvitz'], 148: ['Siyuan_Ma', 'Alex_Olwal', 'Sang_Ho_Yoon', 'Stephen_DiVerdi'], 149: ['Udi_Weinsberg', 'Nina_Taft', 'Igor_Bilogrevic'], 150: ['Caroline_Uhler', 'Xiangyu_Wang_0006', 'Tamara_Broderick', 'Stefanie_Jegelka'], 151: ['Ricardo_Bianchini', 'Eduardo_Pinheiro', 'Qingyuan_Deng'], 152: ['Vitaly_Kuznetsov', 'Ben_Adlam', 'Xavi_Gonzalvo', 'Hanna_Mazzawi'], 153: ['Yadollah_Yaghoobzadeh', 'Timothy_J._Hazen', 'Peter_Potash', 'Victor_Zue'], 154: ['Ang_Li', 'Marc_de_Kruijf', 'David_Schultz', 'Valas_Valancius'], 155: ['Kate_Crawford_0002', 'Hanna_M._Wallach', 'Jake_M._Hofman', 'Daniel_G._Goldstein'], 156: ['Nan_Yang_0002', 'Lei_Cui', 'Dongdong_Zhang'], 157: ['Bin_Shen_0002', 'Dan_Zhang_0007', 'Qifan_Wang'], 158: ['Knot_Pipatsrisawat', 'Keshan_Sodimana', 'Oddur_Kjartansson'], 159: ['Marius_Pasca', 'Janara_Christensen', 'Roxana_Girju'], 160: ['Lada_A._Adamic', 'Farshad_Kooti', 'Shankar_Kalyanaraman', 'Bogdan_State'], 161: ['Nikos_Karampatziakis', 'Paul_Mineiro'], 162: ['Ramakrishnan_Srikant', 'Muhammad_Asiful_Islam', 'Hanie_Sedghi', 'Vineet_Gupta_0001'], 163: ['Foad_Dabiri', 'Hyduke_Noshadi'], 164: ['Philip_D._MacKenzie', 'Ke_Yang'], 165: ['Gang_Wang_0011', 'Cormac_Herley', 'Jack_W._Stokes', 'Henrique_S._Malvar'], 166: ['Beat_Gfeller', 'Felix_de_Chaumont_Quitry', 'Dominik_Roblek'], 167: ['Piyush_Sharma', 'Ye_Zhang', 'Radu_Soricut'], 168: ['Vinton_G._Cerf', 'Erik_Kline', 'Lorenzo_Colitti'], 169: ['Aleksandra_Faust', 'Oscar_Ramirez', 'Brian_Ichter'], 170: ['John_M._Snyder', 'Nikunj_Raghuvanshi'], 171: ['Lucy_Vasserman', 'Nithum_Thain', 'Tolga_Bolukbasi'], 172: ['Darren_Edge', 'Masaaki_Fukumoto', 'Christopher_White'], 173: ['Yinfei_Yang', 'Mandy_Guo'], 174: ['Andrej_Risteski', 'Yuanzhi_Li'], 175: ['Avital_Oliver', 'Ekin_Dogus_Cubuk'], 176: ['Kshitij_Bansal', 'Sarah_M._Loos'], 177: ['Daniel_Jackson_0001', 'Greg_Dennis'], 178: ['Mirjam_Wattenhofer', 'Yannet_Interian'], 179: ['Franjo_Ivancic', 'Prakash_Prabhu', 'Domagoj_Babic'], 180: ['Stephen_Stuart', 'Aspi_Siganporia'], 181: ['Kareem_Amin', 'Anton_Schwaighofer'], 182: ['Ashok_C._Popat', 'Dmitriy_Genzel'], 183: ['Steven_Hand', 'Tim_Deegan'], 184: ['Jay_Nanavati', 'Mark_Harman'], 185: ['Mehdi_Sharifzadeh', 'Luc_Vincent'], 186: ['David_L._Presotto', 'Sean_Dorward'], 187: ['Richard_Zens', 'Michal_Lukasik'], 188: ['Emmanuel_Guere', 'Sean_Augenstein'], 189: ['Walfredo_Cirne', 'Alan_Su_0001'], 190: ['Marc_Pickett', 'Javier_Snaider'], 191: ['Olivier_Nano', 'Laurent_Bussard'], 192: ['Ajay_Manchepalli', 'Chinmay_Kulkarni'], 193: ['David_Brumley', 'Behnaz_Arzani']}\n"
          ],
          "name": "stdout"
        }
      ]
    },
    {
      "cell_type": "code",
      "metadata": {
        "id": "v6zZJnwmGdct",
        "colab_type": "code",
        "outputId": "9abb16c8-308d-4a4e-f83e-b18739bbdc90",
        "colab": {
          "base_uri": "https://localhost:8080/",
          "height": 54
        }
      },
      "source": [
        "algo['infomap']=print_community(infomap,graphs)\n"
      ],
      "execution_count": 0,
      "outputs": [
        {
          "output_type": "stream",
          "text": [
            "{'louvein': {'google': 63.08805790108565, 'Massachusetts Institute of Technology': 35.53719008264463, 'microsoft': 65.1105651105651, 'facebook': 49.23076923076923, 'Carnegie Mellon University': 51.21951219512195, 'Univ': 0}, 'infomap': {'google': 81.3157894736842, 'Massachusetts Institute of Technology': 59.21052631578947, 'microsoft': 80.33175355450237, 'facebook': 75.30864197530865, 'Carnegie Mellon University': 74.24242424242425, 'Univ': 59.45945945945946}}\n"
          ],
          "name": "stdout"
        }
      ]
    },
    {
      "cell_type": "markdown",
      "metadata": {
        "id": "nb0LrfJcKrCI",
        "colab_type": "text"
      },
      "source": [
        "\n",
        "#comparar deteccion"
      ]
    },
    {
      "cell_type": "code",
      "metadata": {
        "id": "jkX2uCYtyakf",
        "colab_type": "code",
        "colab": {}
      },
      "source": [
        "algorithms={}"
      ],
      "execution_count": 0,
      "outputs": []
    },
    {
      "cell_type": "code",
      "metadata": {
        "id": "GCiu2QamsLJZ",
        "colab_type": "code",
        "colab": {}
      },
      "source": [
        "def plot_line(algorithms):\n",
        "  data={}\n",
        "  orgs=['Google','MIT','Microsoft','Facebook','Carnegie','Illinois']\n",
        "  plt.figure(num=None, figsize=(12, 4), dpi=80, facecolor='w', edgecolor='k')\n",
        "  for name,alg in algorithms.items():\n",
        "    error=list(alg.values())\n",
        "    data['x']=range(len(alg.keys()))\n",
        "    data[name]=error\n",
        "\n",
        "  df=pd.DataFrame(data)  \n",
        "  plt.plot( 'x', 'louvein', data=df, marker='o', markerfacecolor='blue', markersize=12, color='skyblue', label=\"louvain\",linewidth=4)\n",
        "  plt.plot( 'x', 'gn', data=df, marker='v', color='green', linewidth=2,label=\"girvan newman\")\n",
        "  plt.plot( 'x', 'infomap', data=df, marker='s', color='red', linewidth=2, linestyle='dashed', label=\"infomap\")\n",
        "  plt.legend()\n",
        "  plt.xticks(np.arange(len(orgs)),list(orgs),rotation='45')\n",
        "  plt.title(\"Deteccion de comunidades\")\n",
        "  plt.ylabel(\"Aciertos %\")\n",
        "\n",
        "  plt.show()"
      ],
      "execution_count": 0,
      "outputs": []
    },
    {
      "cell_type": "code",
      "metadata": {
        "id": "gWDOD17W1ltj",
        "colab_type": "code",
        "outputId": "7b18e8e6-7a14-4042-aa48-cf2851ec6092",
        "colab": {
          "base_uri": "https://localhost:8080/",
          "height": 342
        }
      },
      "source": [
        "plot_line(algo)"
      ],
      "execution_count": 0,
      "outputs": [
        {
          "output_type": "display_data",
          "data": {
            "image/png": "[encoded data removed]",
            "text/plain": [
              "<Figure size 960x320 with 1 Axes>"
            ]
          },
          "metadata": {
            "tags": []
          }
        }
      ]
    },
    {
      "cell_type": "code",
      "metadata": {
        "id": "5ooro_zBWP1O",
        "colab_type": "code",
        "colab": {}
      },
      "source": [
        ""
      ],
      "execution_count": 0,
      "outputs": []
    }
  ]
}