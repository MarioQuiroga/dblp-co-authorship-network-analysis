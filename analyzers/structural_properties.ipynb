{
 "cells": [
  {
   "cell_type": "markdown",
   "metadata": {},
   "source": [
    "### Structural properties"
   ]
  },
  {
   "cell_type": "code",
   "execution_count": 5,
   "metadata": {},
   "outputs": [],
   "source": [
    "import networkx as nx\n",
    "from utils import *\n",
    "\n",
    "def structural_properties(g):\n",
    "    # Average Degree.\n",
    "    print(\"Grado promedio:\", compute_avg_degree(g))\n",
    "\n",
    "    # Number and sizes of connected components.\n",
    "    m_scc = compute_scc(g)\n",
    "\n",
    "    # Network diameter.\n",
    "    diameter = nx.diameter(m_scc)\n",
    "    print(\"Diámetro del componente gigante:\",diameter)\n",
    "\n",
    "    # Average clustering coefficient\n",
    "    print(\"Coeficiente de clistering:\", nx.average_clustering(G))\n",
    "\n",
    "    # Density\n",
    "    print(\"Densidad:\", nx.density(g))\n",
    "\n",
    "    # Distribución de grado.\n",
    "    compute_degree_distribution(graph)\n",
    "\n",
    "    # Distribución de Coeficiente de Clustering\n",
    "\n"
   ]
  },
  {
   "cell_type": "code",
   "execution_count": null,
   "metadata": {},
   "outputs": [],
   "source": [
    "files = []\n",
    "graphs = load_networks(files)\n",
    "for graph in graphs:\n",
    "    structural_properties(graph)\n"
   ]
  }
 ],
 "metadata": {
  "kernelspec": {
   "display_name": "Python 3",
   "language": "python",
   "name": "python3"
  },
  "language_info": {
   "codemirror_mode": {
    "name": "ipython",
    "version": 3
   },
   "file_extension": ".py",
   "mimetype": "text/x-python",
   "name": "python",
   "nbconvert_exporter": "python",
   "pygments_lexer": "ipython3",
   "version": "3.6.8"
  }
 },
 "nbformat": 4,
 "nbformat_minor": 4
}
