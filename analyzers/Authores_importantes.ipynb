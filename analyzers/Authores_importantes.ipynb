{
  "nbformat": 4,
  "nbformat_minor": 0,
  "metadata": {
    "colab": {
      "name": "Authores importantes",
      "provenance": [],
      "collapsed_sections": [],
      "toc_visible": true
    },
    "kernelspec": {
      "name": "python3",
      "display_name": "Python 3"
    }
  },
  "cells": [
    {
      "cell_type": "code",
      "metadata": {
        "id": "s8ltNDW5TyZM",
        "colab_type": "code",
        "colab": {}
      },
      "source": [
        "import matplotlib.pyplot as plt\n",
        "import math\n",
        "import numpy as np\n",
        "import pandas as pd\n",
        "\n",
        "from os import scandir, getcwd\n",
        "from prettytable import PrettyTable"
      ],
      "execution_count": 0,
      "outputs": []
    },
    {
      "cell_type": "markdown",
      "metadata": {
        "id": "X9LOLVHgexgJ",
        "colab_type": "text"
      },
      "source": [
        "#Cargo top ten"
      ]
    },
    {
      "cell_type": "code",
      "metadata": {
        "id": "mtUpaUabeld1",
        "colab_type": "code",
        "colab": {}
      },
      "source": [
        "import csv\n",
        "import networkx as nx\n",
        "data={}\n",
        "with open('/content/most_important_bw', newline='') as csvfile:\n",
        "    data['bw'] = list(csv.reader(csvfile))\n",
        "with open('/content/most_important_degree', newline='') as csvfile:\n",
        "    data['dg'] = list(csv.reader(csvfile))\n",
        "with open('/content/most_important_pr', newline='') as csvfile:\n",
        "    data['pr'] = list(csv.reader(csvfile))\n"
      ],
      "execution_count": 0,
      "outputs": []
    },
    {
      "cell_type": "code",
      "metadata": {
        "id": "I-raFhjq7PER",
        "colab_type": "code",
        "colab": {}
      },
      "source": [
        "def ls(ruta = getcwd()):\n",
        "    return [arch.name for arch in scandir(ruta) if arch.is_file()]\n",
        "\n",
        "def load_networks(path):\n",
        "    files = ls(path)\n",
        "    graphs = {}\n",
        "    full = nx.Graph()\n",
        "    coauthors_full = set() \n",
        "\n",
        "    for file in files:\n",
        "        name = file.split('_')[-1].split('.')[0]\n",
        "        g = nx.read_weighted_edgelist(path+'/'+file, delimiter=',')        \n",
        "        coauthors = set()\n",
        "        full = nx.compose(full, g)\n",
        "        with open(path+'/'+file) as f:\n",
        "            lines = f.readlines()\n",
        "            for line in lines:\n",
        "                author = line.split(',')[0]\n",
        "                coauthors.add(author)\n",
        "                coauthors_full.add(author)\n",
        "            g = g.subgraph(coauthors)            \n",
        "        graphs[name] = g   \n",
        "    graphs['full']=full.subgraph(list(coauthors_full))\n",
        "    return graphs\n"
      ],
      "execution_count": 0,
      "outputs": []
    },
    {
      "cell_type": "code",
      "metadata": {
        "id": "Ht7BmznYks3u",
        "colab_type": "code",
        "colab": {}
      },
      "source": [
        "def get_comunidad(node,communitys):\n",
        "  result=set()\n",
        "  for inst,g in communitys.items():\n",
        "    if node in g:\n",
        "\n",
        "      result.add(inst)\n",
        "  return result\n",
        "\n"
      ],
      "execution_count": 0,
      "outputs": []
    },
    {
      "cell_type": "code",
      "metadata": {
        "id": "BP5bef2d7b4n",
        "colab_type": "code",
        "colab": {}
      },
      "source": [
        "path ='/content/grafos'\n",
        "graphs = load_networks(path)\n",
        "full={}  \n",
        "full['Google']=graphs['google']\n",
        "full['MIT']=graphs['Massachusetts Institute of Technology']\n",
        "full['Microsoft']=graphs['microsoft']\n",
        "full['Facebook']=graphs['facebook']\n",
        "full['Carnegie']=graphs['Carnegie Mellon University']\n",
        "full['Illinois']=graphs['Univ']\n",
        "\n",
        "G=nx.read_gml('/content/full.gml')\n",
        "\n"
      ],
      "execution_count": 0,
      "outputs": []
    },
    {
      "cell_type": "code",
      "metadata": {
        "id": "KtnIDIWouZFL",
        "colab_type": "code",
        "outputId": "9ab40da5-66c7-4744-9888-65ba4b01c3c8",
        "colab": {
          "base_uri": "https://localhost:8080/",
          "height": 832
        }
      },
      "source": [
        "authors_connexion={}\n",
        "neigborsh=[]\n",
        "for mesure,authors in data.items():\n",
        "  authors_connexion[mesure]={}\n",
        "  for author in authors:\n",
        "    author=author[0]\n",
        "    insts = list(get_comunidad(author,full))\n",
        "    count_same_inst=0\n",
        "    for inst in insts:\n",
        "      neigborsh=G.neighbors(author)\n",
        "      for neigh in list(neigborsh):\n",
        "        NI = get_comunidad(neigh,full)\n",
        "        for ni in NI:\n",
        "          if ni not in inst:\n",
        "            if (author,inst,ni) in authors_connexion[mesure].keys():\n",
        "              authors_connexion[mesure][(author,inst,ni)]+=1\n",
        "            else:\n",
        "              authors_connexion[mesure][(author,inst,ni)]=1\n",
        "          else:\n",
        "            count_same_inst+=1\n",
        "labels=full.keys()\n",
        "\n",
        "#Color\n",
        "R = \"\\033[0;31;40m\" #RED\n",
        "G = \"\\033[0;32;40m\" # GREEN\n",
        "Y = \"\\033[0;33;40m\" # Yellow\n",
        "B = \"\\033[0;34;40m\" # Blue\n",
        "N = \"\\033[0m\" # R\n",
        "\n",
        "for mesure in authors_connexion.keys():\n",
        "  row={}\n",
        "  for key,val  in authors_connexion[mesure].items():\n",
        "    table=[]\n",
        "    for inst in list(labels):\n",
        "      if key[2] in inst:\n",
        "        table.append(int(val))\n",
        "      else:\n",
        "        table.append(0)\n",
        "    if (key[0],key[1]) in row.keys():\n",
        "      row[(key[0],key[1])].append(table)\n",
        "    else:\n",
        "      row[(key[0],key[1])]=[table]\n",
        "  x = PrettyTable()\n",
        "  x.field_names = [\"Autor\",\"Pertenece a\",\"Medida\",'Google', 'MIT', 'Microsoft', 'Facebook', 'Carnegie', 'Illinois','total']\n",
        "  i=0\n",
        "  for key, val in row.items():\n",
        "    s = [sum(a) for a in zip(*val)]\n",
        "    total=sum(s)\n",
        "    x.add_row([key[0],key[1],G+mesure+N,*[sum(a) for a in zip(*val)],total])\n",
        "  print(\"Autores importantes por Medida\")\n",
        "  print(x)\n",
        "\n",
        "\n",
        "\n"
      ],
      "execution_count": 49,
      "outputs": [
        {
          "output_type": "stream",
          "text": [
            "Autores importantes por Medida\n",
            "+--------------------+-------------+--------+--------+-----+-----------+----------+----------+----------+-------+\n",
            "|       Autor        | Pertenece a | Medida | Google | MIT | Microsoft | Facebook | Carnegie | Illinois | total |\n",
            "+--------------------+-------------+--------+--------+-----+-----------+----------+----------+----------+-------+\n",
            "|     Quoc_V._Le     |    Google   |   \u001b[0;32;40mbw\u001b[0m   |   0    |  0  |     1     |    1     |    2     |    0     |   4   |\n",
            "|    Eric_P._Xing    |   Carnegie  |   \u001b[0;32;40mbw\u001b[0m   |   9    |  4  |     6     |    2     |    0     |    0     |   21  |\n",
            "|   Samuel_Madden    |     MIT     |   \u001b[0;32;40mbw\u001b[0m   |   7    |  0  |     11    |    2     |    8     |    1     |   29  |\n",
            "|      Wei_Wang      |  Microsoft  |   \u001b[0;32;40mbw\u001b[0m   |   21   |  3  |     0     |    2     |    0     |    0     |   26  |\n",
            "| Christos_Faloutsos |   Carnegie  |   \u001b[0;32;40mbw\u001b[0m   |   9    |  2  |     1     |    2     |    0     |    3     |   17  |\n",
            "|   Oriol_Vinyals    |    Google   |   \u001b[0;32;40mbw\u001b[0m   |   0    |  0  |     5     |    1     |    0     |    0     |   6   |\n",
            "|      Yang_Li       |    Google   |   \u001b[0;32;40mbw\u001b[0m   |   0    |  1  |     8     |    1     |    1     |    4     |   15  |\n",
            "|  Jiawei_Han_0001   |   Illinois  |   \u001b[0;32;40mbw\u001b[0m   |   12   |  0  |     5     |    3     |    4     |    0     |   24  |\n",
            "| David_G._Andersen  |   Carnegie  |   \u001b[0;32;40mbw\u001b[0m   |   8    |  7  |     7     |    1     |    0     |    0     |   23  |\n",
            "|      Yu_Zhang      |    Google   |   \u001b[0;32;40mbw\u001b[0m   |   0    |  0  |     2     |    3     |    2     |    1     |   8   |\n",
            "+--------------------+-------------+--------+--------+-----+-----------+----------+----------+----------+-------+\n",
            "Autores importantes por Medida\n",
            "+---------------------+-------------+--------+--------+-----+-----------+----------+----------+----------+-------+\n",
            "|        Autor        | Pertenece a | Medida | Google | MIT | Microsoft | Facebook | Carnegie | Illinois | total |\n",
            "+---------------------+-------------+--------+--------+-----+-----------+----------+----------+----------+-------+\n",
            "|     Tie-Yan_Liu     |  Microsoft  |   \u001b[0;32;40mdg\u001b[0m   |   0    |  0  |     0     |    0     |    4     |    1     |   5   |\n",
            "|   Jiawei_Han_0001   |   Illinois  |   \u001b[0;32;40mdg\u001b[0m   |   12   |  0  |     5     |    3     |    4     |    0     |   24  |\n",
            "|       Tao_Qin       |  Microsoft  |   \u001b[0;32;40mdg\u001b[0m   |   0    |  0  |     0     |    0     |    0     |    1     |   1   |\n",
            "|    Martial_Hebert   |   Carnegie  |   \u001b[0;32;40mdg\u001b[0m   |   7    |  1  |     3     |    2     |    0     |    3     |   16  |\n",
            "|  Hari_Balakrishnan  |     MIT     |   \u001b[0;32;40mdg\u001b[0m   |   5    |  0  |     4     |    1     |    3     |    2     |   15  |\n",
            "|  Phillip_B._Gibbons |   Carnegie  |   \u001b[0;32;40mdg\u001b[0m   |   3    |  4  |     8     |    1     |    0     |    1     |   17  |\n",
            "|    Yoshua_Bengio    |  Microsoft  |   \u001b[0;32;40mdg\u001b[0m   |   10   |  1  |     0     |    11    |    2     |    0     |   24  |\n",
            "|  William_T._Freeman |     MIT     |   \u001b[0;32;40mdg\u001b[0m   |   9    |  0  |     2     |    2     |    1     |    0     |   14  |\n",
            "|  William_T._Freeman |    Google   |   \u001b[0;32;40mdg\u001b[0m   |   0    |  9  |     2     |    2     |    1     |    0     |   14  |\n",
            "| Lorrie_Faith_Cranor |   Carnegie  |   \u001b[0;32;40mdg\u001b[0m   |   3    |  0  |     1     |    0     |    0     |    0     |   4   |\n",
            "|  Christos_Faloutsos |   Carnegie  |   \u001b[0;32;40mdg\u001b[0m   |   9    |  2  |     1     |    2     |    0     |    3     |   17  |\n",
            "+---------------------+-------------+--------+--------+-----+-----------+----------+----------+----------+-------+\n",
            "Autores importantes por Medida\n",
            "+--------------------+-------------+--------+--------+-----+-----------+----------+----------+----------+-------+\n",
            "|       Autor        | Pertenece a | Medida | Google | MIT | Microsoft | Facebook | Carnegie | Illinois | total |\n",
            "+--------------------+-------------+--------+--------+-----+-----------+----------+----------+----------+-------+\n",
            "|     Quoc_V._Le     |    Google   |   \u001b[0;32;40mpr\u001b[0m   |   0    |  0  |     1     |    1     |    2     |    0     |   4   |\n",
            "|  Jiawei_Han_0001   |   Illinois  |   \u001b[0;32;40mpr\u001b[0m   |   12   |  0  |     5     |    3     |    4     |    0     |   24  |\n",
            "|   Yoshua_Bengio    |  Microsoft  |   \u001b[0;32;40mpr\u001b[0m   |   10   |  1  |     0     |    11    |    2     |    0     |   24  |\n",
            "|   Martial_Hebert   |   Carnegie  |   \u001b[0;32;40mpr\u001b[0m   |   7    |  1  |     3     |    2     |    0     |    3     |   16  |\n",
            "| Vahab_S._Mirrokni  |    Google   |   \u001b[0;32;40mpr\u001b[0m   |   0    |  3  |     2     |    0     |    1     |    0     |   6   |\n",
            "|     Lei_Zhang      |    Google   |   \u001b[0;32;40mpr\u001b[0m   |   0    |  0  |     18    |    5     |    0     |    1     |   24  |\n",
            "| William_T._Freeman |     MIT     |   \u001b[0;32;40mpr\u001b[0m   |   9    |  0  |     2     |    2     |    1     |    0     |   14  |\n",
            "| William_T._Freeman |    Google   |   \u001b[0;32;40mpr\u001b[0m   |   0    |  9  |     2     |    2     |    1     |    0     |   14  |\n",
            "| Christos_Faloutsos |   Carnegie  |   \u001b[0;32;40mpr\u001b[0m   |   9    |  2  |     1     |    2     |    0     |    3     |   17  |\n",
            "|    Tie-Yan_Liu     |  Microsoft  |   \u001b[0;32;40mpr\u001b[0m   |   0    |  0  |     0     |    0     |    4     |    1     |   5   |\n",
            "|   Oriol_Vinyals    |    Google   |   \u001b[0;32;40mpr\u001b[0m   |   0    |  0  |     5     |    1     |    0     |    0     |   6   |\n",
            "+--------------------+-------------+--------+--------+-----+-----------+----------+----------+----------+-------+\n"
          ],
          "name": "stdout"
        }
      ]
    },
    {
      "cell_type": "code",
      "metadata": {
        "id": "N2Hx1bOsFfUm",
        "colab_type": "code",
        "colab": {}
      },
      "source": [
        ""
      ],
      "execution_count": 0,
      "outputs": []
    },
    {
      "cell_type": "code",
      "metadata": {
        "id": "0MU22u9Q6Kz-",
        "colab_type": "code",
        "colab": {}
      },
      "source": [
        ""
      ],
      "execution_count": 0,
      "outputs": []
    }
  ]
}